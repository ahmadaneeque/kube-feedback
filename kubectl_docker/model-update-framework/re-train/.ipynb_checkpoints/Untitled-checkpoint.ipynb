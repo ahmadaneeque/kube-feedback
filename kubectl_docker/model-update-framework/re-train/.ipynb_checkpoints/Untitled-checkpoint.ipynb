{
 "cells": [
  {
   "cell_type": "code",
   "execution_count": 7,
   "metadata": {},
   "outputs": [],
   "source": [
    "import json\n",
    "\n",
    "def read_logs(uid):\n",
    "    history = []\n",
    "    with open(file_name) as reader:\n",
    "        line = reader.readline().split('->')[-1]\n",
    "        val = json.loads(line)\n",
    "        if uid == val.get('name'):\n",
    "            history.append(val)"
   ]
  },
  {
   "cell_type": "code",
   "execution_count": 2,
   "metadata": {},
   "outputs": [],
   "source": [
    "import os"
   ]
  },
  {
   "cell_type": "code",
   "execution_count": 3,
   "metadata": {},
   "outputs": [
    {
     "data": {
      "text/plain": [
       "['tasks',\n",
       " 'mlog.py',\n",
       " 'app-thread.py',\n",
       " 'app.log',\n",
       " 'main.py',\n",
       " '.ipynb_checkpoints',\n",
       " '__pycache__',\n",
       " 'Dockerfile',\n",
       " 'app.py',\n",
       " 'app.ini',\n",
       " '.idea',\n",
       " 'test.py',\n",
       " 'training_model.py',\n",
       " 'Untitled.ipynb']"
      ]
     },
     "execution_count": 3,
     "metadata": {},
     "output_type": "execute_result"
    }
   ],
   "source": [
    "os.listdir()"
   ]
  },
  {
   "cell_type": "code",
   "execution_count": null,
   "metadata": {},
   "outputs": [],
   "source": [
    "# with open('readme.txt') as f:\n",
    "#     lines = f.readlines()"
   ]
  },
  {
   "cell_type": "code",
   "execution_count": 15,
   "metadata": {},
   "outputs": [
    {
     "name": "stdout",
     "output_type": "stream",
     "text": [
      "2\n",
      "1\n",
      "0\n",
      "1\n",
      "2\n",
      "1\n",
      "1\n",
      "1\n",
      "-\n",
      "1\n",
      "0\n",
      "1\n",
      "3\n",
      "1\n",
      "-\n",
      "1\n",
      "1\n",
      "1\n",
      "0\n",
      "1\n",
      " \n",
      "1\n",
      "1\n",
      "1\n",
      "0\n",
      "1\n",
      ":\n",
      "1\n",
      "4\n",
      "1\n",
      "8\n",
      "1\n",
      ":\n",
      "1\n",
      "2\n",
      "1\n",
      "2\n",
      "1\n",
      ",\n",
      "1\n",
      "9\n",
      "1\n",
      "3\n",
      "1\n",
      "7\n",
      "1\n",
      " \n",
      "1\n",
      "-\n",
      "1\n",
      ">\n",
      "1\n",
      "S\n",
      "1\n",
      "t\n",
      "1\n",
      "a\n",
      "1\n",
      "r\n",
      "1\n",
      "t\n",
      "1\n",
      "e\n",
      "1\n",
      "d\n",
      "1\n",
      "\n",
      "\n",
      "1\n"
     ]
    }
   ],
   "source": [
    "# file_name = 'app.log'\n",
    "# # read_logs('anomaly_4e9e94095d6e6a517dfa')\n",
    "# history = []\n",
    "# with open('app.log') as reader:\n",
    "#     lines = reader.readline()\n",
    "#     for line in lines:\n",
    "#         print(line)\n",
    "# #         val = \n",
    "# #         val = json.loads(line.split('->')[-1])\n",
    "        \n",
    "#         print(val)\n",
    "# #     pri\n",
    "# #     if uid == val.get('name'):\n",
    "# #         history.append(val)"
   ]
  },
  {
   "cell_type": "code",
   "execution_count": null,
   "metadata": {},
   "outputs": [],
   "source": []
  }
 ],
 "metadata": {
  "kernelspec": {
   "display_name": "Python 3",
   "language": "python",
   "name": "python3"
  },
  "language_info": {
   "codemirror_mode": {
    "name": "ipython",
    "version": 3
   },
   "file_extension": ".py",
   "mimetype": "text/x-python",
   "name": "python",
   "nbconvert_exporter": "python",
   "pygments_lexer": "ipython3",
   "version": "3.5.2"
  }
 },
 "nbformat": 4,
 "nbformat_minor": 2
}
